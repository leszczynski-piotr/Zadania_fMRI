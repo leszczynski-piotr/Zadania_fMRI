{
 "cells": [
  {
   "cell_type": "markdown",
   "metadata": {},
   "source": [
    "# Advanced fMRI data analysis \n",
    "## General Linear Model 2\n",
    "\n",
    "\n",
    "In this assignment, your task is to run simple GLM analysis on fMRI data in Python.\n",
    "\n",
    "You can choose to answer in Polish or English (it will not affect your grade).\n",
    "\n",
    "**DEADLINE:** 22-05-2020\n",
    "\n",
    "-------------------"
   ]
  },
  {
   "cell_type": "markdown",
   "metadata": {},
   "source": [
    "## Task 1\n",
    "\n"
   ]
  },
  {
   "cell_type": "markdown",
   "metadata": {},
   "source": [
    "Repeat all analyses performed on our last classes (code [HERE](https://github.com/fMRIAnalysisCourse/fmri-analysis-course/blob/master/04-general_linear_model/glm_on_fMRI_data.ipynb)) on the second subject in our dataset (`sub-02`). Explore different plotting possibilities available at `plot_stat_map` method (documentation [HERE](https://nilearn.github.io/modules/generated/nilearn.plotting.plot_stat_map.html)). Also check tutorial [HERE](https://nilearn.github.io/auto_examples/01_plotting/plot_demo_more_plotting.html#sphx-glr-auto-examples-01-plotting-plot-demo-more-plotting-py).\n",
    "\n"
   ]
  },
  {
   "cell_type": "code",
   "execution_count": null,
   "metadata": {
    "scrolled": false
   },
   "outputs": [],
   "source": [
    "#Imports\n",
    "\n",
    "import pandas as pd\n",
    "import numpy as np\n",
    "import matplotlib.pyplot as plt\n",
    "%matplotlib inline\n",
    "from nistats.first_level_model import FirstLevelModel\n",
    "from nistats.reporting import plot_design_matrix\n",
    "from nistats.reporting import plot_contrast_matrix\n",
    "from nilearn.plotting import plot_stat_map, plot_anat, plot_img, show, view_img\n",
    "from nistats.thresholding import map_threshold\n",
    "from nistats.reporting import get_clusters_table\n",
    "\n",
    "\n",
    "events_path = \"../fmri-analysis-course-master/data/fMRI_BIDS_rhymejudgment/sub-02/func/sub-02_task-rhymejudgment_events.tsv\"\n",
    "events = pd.read_csv(events_path, sep=\"\\t\")\n",
    "print(events.head())\n",
    "\n",
    "\n",
    "#Loading fMRI image\n",
    "fmri_img = \"../fmri-analysis-course-master/data/fMRI_BIDS_rhymejudgment/derivatives/fmriprep/sub-02/func/sub-02_task-rhymejudgment_space-MNI152NLin2009cAsym_desc-preproc_bold.nii.gz\"\n",
    "confounds_path = \"../fmri-analysis-course-master/data/fMRI_BIDS_rhymejudgment/derivatives/fmriprep/sub-02/func/sub-02_task-rhymejudgment_desc-confounds_regressors.tsv\"\n",
    "confounds = pd.read_csv(confounds_path, sep=\"\\t\")\n",
    "motion = confounds[[\"trans_x\", \"trans_y\", \"trans_z\", \"rot_x\", \"rot_y\", \"rot_z\"]]\n",
    "\n",
    "\n",
    "t_r = 2\n",
    "first_level_model = FirstLevelModel(t_r, \n",
    "                                    hrf_model='spm', \n",
    "                                    high_pass=.01,\n",
    "                                    smoothing_fwhm=6)\n",
    "\n",
    "first_level_model = first_level_model.fit(fmri_img, events=events)\n",
    "\n",
    "\n",
    "design_matrix = first_level_model.design_matrices_[0]\n",
    "\n",
    "# Plot design matrix\n",
    "plot_design_matrix(design_matrix)"
   ]
  },
  {
   "cell_type": "code",
   "execution_count": null,
   "metadata": {},
   "outputs": [],
   "source": [
    "# Printing timeseries of data\n",
    "plt.plot(design_matrix['pseudoword'])\n",
    "plt.plot(design_matrix['word'])\n",
    "plt.legend(design_matrix.columns[0:2])\n",
    "plt.show()"
   ]
  },
  {
   "cell_type": "code",
   "execution_count": null,
   "metadata": {},
   "outputs": [],
   "source": [
    "# Create conditions\n",
    "conditions = {'pseudoword': np.array([1, 0, 0, 0, 0, 0, 0, 0, 0]), \n",
    "              'word': np.array([0, 1, 0, 0, 0, 0, 0, 0, 0])}\n",
    "\n",
    "# Create contrasts\n",
    "word_minus_pseudoword = conditions['word'] - conditions['pseudoword']\n",
    "word_effect = conditions['word']\n",
    "\n",
    "# Plot contrast matrix\n",
    "plot_contrast_matrix(word_effect, design_matrix=design_matrix)\n",
    "\n",
    "# Calculate statistic test for selected contrast\n",
    "z_map = first_level_model.compute_contrast(word_effect,\n",
    "                                  output_type='z_score')\n",
    "plot_stat_map(z_map, threshold=5.179,\n",
    "              display_mode='z', cut_coords=3, black_bg=True)\n",
    "plt.show()\n",
    "\n",
    "z_map1 = first_level_model.compute_contrast(word_minus_pseudoword,\n",
    "                                  output_type='z_score')\n",
    "plot_stat_map(z_map, threshold=3,\n",
    "              display_mode='z', cut_coords=3, black_bg=True)\n",
    "plt.show()\n",
    "\n",
    "# Threshold z-matrices to correct for multiple comparisons\n",
    "_, threshold = map_threshold(z_map, alpha=.05, height_control='bonferroni')\n",
    "print('Uncorrected p<0.001 threshold: %.3f' % threshold)\n",
    "plot_stat_map(z_map, threshold=threshold,\n",
    "              display_mode='z', cut_coords=3, black_bg=True)\n",
    "plt.show()\n",
    "\n",
    "# Get cluster table\n",
    "table = get_clusters_table(z_map, stat_threshold=threshold,\n",
    "                           cluster_threshold=20)\n",
    "\n",
    "# Repeat everything with motion as nuisance regressors.\n",
    "first_level_model = first_level_model.fit(fmri_img, events=events, confounds=motion)\n",
    "\n",
    "design_matrix1 = first_level_model.design_matrices_[0]\n",
    "design_matrix1.head()\n",
    "\n",
    "plot_design_matrix(design_matrix1)\n",
    "\n",
    "conditions1 = conditions = {'pseudoword': np.array([1, 0, 0, 0, 0, 0, 0, 0, 0, 0, 0, 0, 0, 0, 0]), \n",
    "              'word': np.array([0, 1, 0, 0, 0, 0, 0, 0, 0, 0, 0, 0, 0, 0, 0]), 'trans_y': np.array([0, 0, 0, 1, 0, 0, 0, 0, 0, 0, 0, 0, 0, 0, 0])}\n",
    "\n",
    "# Create contrasts\n",
    "word_minus_pseudoword1 = conditions1['word'] - conditions1['pseudoword']\n",
    "word_effect1 = conditions1['word']\n",
    "trans_y = conditions1['trans_y']\n",
    "# Plot contrast matrix\n",
    "plot_contrast_matrix(word_minus_pseudoword1, design_matrix=design_matrix1)\n",
    "\n",
    "z_map_mov = first_level_model.compute_contrast(word_effect1,\n",
    "                                  output_type='z_score')\n",
    "plot_stat_map(z_map_mov, threshold=3,\n",
    "              display_mode='z', cut_coords=6, black_bg=True)\n",
    "plt.show()\n",
    "\n",
    "\n",
    "z_map_mov_trans = first_level_model.compute_contrast(trans_y,\n",
    "                                  output_type='z_score')\n",
    "plot_stat_map(z_map_mov_trans, threshold=3,\n",
    "              display_mode='z', cut_coords=6, black_bg=True)\n",
    "plt.show()"
   ]
  },
  {
   "cell_type": "code",
   "execution_count": null,
   "metadata": {},
   "outputs": [],
   "source": [
    "#Sagittal map\n",
    "plot_stat_map(z_map_mov_trans, threshold=3,\n",
    "              display_mode='x', cut_coords=6, black_bg=True)\n",
    "plt.show()\n",
    "\n",
    "#coronal map\n",
    "plot_stat_map(z_map_mov_trans, threshold=4,\n",
    "              display_mode='y', cut_coords=6, black_bg=True)\n",
    "plt.show()\n",
    "\n",
    "#orthogonal\n",
    "plot_stat_map(z_map_mov_trans, threshold=3,\n",
    "              display_mode='ortho', cut_coords=(1, 1, 1), black_bg=True)\n",
    "plt.show()\n",
    "\n",
    "#stat map\n",
    "plot_stat_map(z_map_mov_trans, threshold=3,\n",
    "              display_mode='tiled', cut_coords=(1, 1, 50), black_bg=True)\n",
    "plt.show()"
   ]
  }
 ],
 "metadata": {
  "kernelspec": {
   "display_name": "Python 3",
   "language": "python",
   "name": "python3"
  },
  "language_info": {
   "codemirror_mode": {
    "name": "ipython",
    "version": 3
   },
   "file_extension": ".py",
   "mimetype": "text/x-python",
   "name": "python",
   "nbconvert_exporter": "python",
   "pygments_lexer": "ipython3",
   "version": "3.7.3"
  },
  "widgets": {
   "application/vnd.jupyter.widget-state+json": {
    "state": {},
    "version_major": 2,
    "version_minor": 0
   }
  }
 },
 "nbformat": 4,
 "nbformat_minor": 4
}
